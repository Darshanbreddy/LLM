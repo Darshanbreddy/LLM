{
  "nbformat": 4,
  "nbformat_minor": 0,
  "metadata": {
    "colab": {
      "provenance": [],
      "authorship_tag": "ABX9TyNec3TvdBA5mSZ7RM3H3y6d",
      "include_colab_link": true
    },
    "kernelspec": {
      "name": "python3",
      "display_name": "Python 3"
    },
    "language_info": {
      "name": "python"
    }
  },
  "cells": [
    {
      "cell_type": "markdown",
      "metadata": {
        "id": "view-in-github",
        "colab_type": "text"
      },
      "source": [
        "<a href=\"https://colab.research.google.com/github/Darshanbreddy/LLM/blob/main/Layer_normilization.ipynb\" target=\"_parent\"><img src=\"https://colab.research.google.com/assets/colab-badge.svg\" alt=\"Open In Colab\"/></a>"
      ]
    },
    {
      "cell_type": "code",
      "execution_count": 2,
      "metadata": {
        "id": "QSFApJpm-PDv"
      },
      "outputs": [],
      "source": [
        "import torch\n",
        "import torch.nn as nn\n"
      ]
    },
    {
      "cell_type": "markdown",
      "source": [
        "# Step 1: Create a batch of data\n",
        "# Let's say batch_size=2, features=4"
      ],
      "metadata": {
        "id": "mZv1OL6E_CS-"
      }
    },
    {
      "cell_type": "code",
      "source": [
        "x = torch.tensor([[1.0, 2.0, 3.0, 4.0],\n",
        "                  [5.0, 6.0, 7.0, 8.0]])\n",
        "\n",
        "print(\"Original Input:\")\n",
        "print(x)"
      ],
      "metadata": {
        "colab": {
          "base_uri": "https://localhost:8080/"
        },
        "id": "O3eY1-O_-_d-",
        "outputId": "bbd2a7ca-39d4-4bf1-df6d-50476a34353f"
      },
      "execution_count": 3,
      "outputs": [
        {
          "output_type": "stream",
          "name": "stdout",
          "text": [
            "Original Input:\n",
            "tensor([[1., 2., 3., 4.],\n",
            "        [5., 6., 7., 8.]])\n"
          ]
        }
      ]
    },
    {
      "cell_type": "markdown",
      "source": [
        "# Step 2: Print mean and variance across features for each sample\n",
        "\n"
      ],
      "metadata": {
        "id": "YpZhRWE1_JZv"
      }
    },
    {
      "cell_type": "code",
      "source": [
        "mean = x.mean(dim=1, keepdim=True)\n",
        "var = x.var(dim=1, unbiased=False, keepdim=True)\n",
        "\n",
        "print(\"\\nMean before LayerNorm (per sample):\")\n",
        "print(mean)\n",
        "\n",
        "print(\"\\nVariance before LayerNorm (per sample):\")\n",
        "print(var)"
      ],
      "metadata": {
        "colab": {
          "base_uri": "https://localhost:8080/"
        },
        "id": "VbRGREp8_KcB",
        "outputId": "f3e7abb0-b28c-4deb-f5cb-66dcf701cc6b"
      },
      "execution_count": 4,
      "outputs": [
        {
          "output_type": "stream",
          "name": "stdout",
          "text": [
            "\n",
            "Mean before LayerNorm (per sample):\n",
            "tensor([[2.5000],\n",
            "        [6.5000]])\n",
            "\n",
            "Variance before LayerNorm (per sample):\n",
            "tensor([[1.2500],\n",
            "        [1.2500]])\n"
          ]
        }
      ]
    },
    {
      "cell_type": "markdown",
      "source": [
        "# Step 3: Apply Layer Normalization\n",
        "# Normalize over last dimension (features)"
      ],
      "metadata": {
        "id": "NzDFhRc7_PcP"
      }
    },
    {
      "cell_type": "code",
      "source": [
        "layer_norm = nn.LayerNorm(normalized_shape=x.shape[1])  # normalized_shape = num of features\n",
        "x_norm = layer_norm(x)\n",
        "\n",
        "print(\"\\nAfter Layer Normalization:\")\n",
        "print(x_norm)"
      ],
      "metadata": {
        "colab": {
          "base_uri": "https://localhost:8080/"
        },
        "id": "1dMEgx-k_QNp",
        "outputId": "83578ece-6031-4628-cce0-c3f65a17ed9f"
      },
      "execution_count": 5,
      "outputs": [
        {
          "output_type": "stream",
          "name": "stdout",
          "text": [
            "\n",
            "After Layer Normalization:\n",
            "tensor([[-1.3416, -0.4472,  0.4472,  1.3416],\n",
            "        [-1.3416, -0.4472,  0.4472,  1.3416]],\n",
            "       grad_fn=<NativeLayerNormBackward0>)\n"
          ]
        }
      ]
    },
    {
      "cell_type": "code",
      "source": [
        "mean_after = x_norm.mean(dim=1, keepdim=True)\n",
        "var_after = x_norm.var(dim=1, unbiased=False, keepdim=True)"
      ],
      "metadata": {
        "id": "wpvEG1O4_Xii"
      },
      "execution_count": 6,
      "outputs": []
    },
    {
      "cell_type": "code",
      "source": [
        "print(\"\\nMean after LayerNorm (per sample):\")\n",
        "print(mean_after)\n",
        "\n",
        "print(\"\\nVariance after LayerNorm (per sample):\")\n",
        "print(var_after)"
      ],
      "metadata": {
        "colab": {
          "base_uri": "https://localhost:8080/"
        },
        "id": "wm1m0P8W_aCi",
        "outputId": "161405f2-9f58-498d-d29b-fe70738e26c8"
      },
      "execution_count": 7,
      "outputs": [
        {
          "output_type": "stream",
          "name": "stdout",
          "text": [
            "\n",
            "Mean after LayerNorm (per sample):\n",
            "tensor([[0.],\n",
            "        [0.]], grad_fn=<MeanBackward1>)\n",
            "\n",
            "Variance after LayerNorm (per sample):\n",
            "tensor([[1.0000],\n",
            "        [1.0000]], grad_fn=<VarBackward0>)\n"
          ]
        }
      ]
    },
    {
      "cell_type": "code",
      "source": [
        "x = torch.randn(3, 5)  # 3 samples, 5 features each\n",
        "\n",
        "print(\"Original Input:\")\n",
        "print(x)"
      ],
      "metadata": {
        "colab": {
          "base_uri": "https://localhost:8080/"
        },
        "id": "cYNVcNlP_qVT",
        "outputId": "b1c32c3e-b5ab-4c51-988e-b46a2b1d5f15"
      },
      "execution_count": 8,
      "outputs": [
        {
          "output_type": "stream",
          "name": "stdout",
          "text": [
            "Original Input:\n",
            "tensor([[-0.9036,  0.2232, -1.6372, -0.0054,  0.4290],\n",
            "        [-1.0337, -0.9208,  1.4874,  0.5683, -0.7738],\n",
            "        [ 1.6702, -0.2791,  0.5996, -0.8356,  0.6950]])\n"
          ]
        }
      ]
    },
    {
      "cell_type": "code",
      "source": [
        "def layer_norm(x, eps=1e-5):\n",
        "    \"\"\"\n",
        "    Apply Layer Normalization across features (last dimension) for each sample.\n",
        "\n",
        "    Args:\n",
        "        x (Tensor): input tensor of shape (batch_size, num_features)\n",
        "        eps (float): small value to avoid division by zero\n",
        "\n",
        "    Returns:\n",
        "        Tensor: normalized tensor of same shape\n",
        "    \"\"\"\n",
        "    mean = x.mean(dim=1, keepdim=True)              # Per-sample mean\n",
        "    var = x.var(dim=1, keepdim=True, unbiased=False)  # Per-sample variance\n",
        "    x_norm = (x - mean) / torch.sqrt(var + eps)     # Normalize\n",
        "    return x_norm"
      ],
      "metadata": {
        "id": "stpBkHc-_wC3"
      },
      "execution_count": 9,
      "outputs": []
    },
    {
      "cell_type": "code",
      "source": [
        "# Step 3: Mean and Variance before LayerNorm\n",
        "mean_before = x.mean(dim=1, keepdim=True)\n",
        "var_before = x.var(dim=1, keepdim=True, unbiased=False)\n",
        "\n",
        "print(\"\\nMean before LayerNorm (per sample):\")\n",
        "print(mean_before)\n",
        "\n",
        "print(\"\\nVariance before LayerNorm (per sample):\")\n",
        "print(var_before)"
      ],
      "metadata": {
        "colab": {
          "base_uri": "https://localhost:8080/"
        },
        "id": "6PEI6kyC_zM1",
        "outputId": "c2910357-7498-4829-f30a-a55fe9ce298b"
      },
      "execution_count": 10,
      "outputs": [
        {
          "output_type": "stream",
          "name": "stdout",
          "text": [
            "\n",
            "Mean before LayerNorm (per sample):\n",
            "tensor([[-0.3788],\n",
            "        [-0.1345],\n",
            "        [ 0.3700]])\n",
            "\n",
            "Variance before LayerNorm (per sample):\n",
            "tensor([[0.6027],\n",
            "        [0.9920],\n",
            "        [0.7447]])\n"
          ]
        }
      ]
    },
    {
      "cell_type": "code",
      "source": [
        "x_norm = layer_norm(x)\n",
        "\n",
        "print(\"\\nAfter Layer Normalization:\")\n",
        "print(x_norm)"
      ],
      "metadata": {
        "colab": {
          "base_uri": "https://localhost:8080/"
        },
        "id": "mSPy-L2w_2tm",
        "outputId": "97e45dad-0e1a-4c3b-e18d-d314ce64471f"
      },
      "execution_count": 11,
      "outputs": [
        {
          "output_type": "stream",
          "name": "stdout",
          "text": [
            "\n",
            "After Layer Normalization:\n",
            "tensor([[-0.6760,  0.7755, -1.6210,  0.4810,  1.0405],\n",
            "        [-0.9028, -0.7894,  1.6284,  0.7057, -0.6418],\n",
            "        [ 1.5066, -0.7522,  0.2660, -1.3970,  0.3766]])\n"
          ]
        }
      ]
    },
    {
      "cell_type": "code",
      "source": [
        "mean_after = x_norm.mean(dim=1, keepdim=True)\n",
        "var_after = x_norm.var(dim=1, keepdim=True, unbiased=False)\n",
        "\n",
        "print(\"\\nMean after LayerNorm (per sample):\")\n",
        "print(mean_after)\n",
        "\n",
        "print(\"\\nVariance after LayerNorm (per sample):\")\n",
        "print(var_after)\n"
      ],
      "metadata": {
        "colab": {
          "base_uri": "https://localhost:8080/"
        },
        "id": "Scc1Pw3h_9O6",
        "outputId": "23f0ab43-e27f-4980-d24a-697c4e1b4b69"
      },
      "execution_count": 12,
      "outputs": [
        {
          "output_type": "stream",
          "name": "stdout",
          "text": [
            "\n",
            "Mean after LayerNorm (per sample):\n",
            "tensor([[-1.1921e-08],\n",
            "        [-5.9605e-08],\n",
            "        [ 2.3842e-08]])\n",
            "\n",
            "Variance after LayerNorm (per sample):\n",
            "tensor([[1.0000],\n",
            "        [1.0000],\n",
            "        [1.0000]])\n"
          ]
        }
      ]
    },
    {
      "cell_type": "markdown",
      "source": [
        "eps=1e-5: Prevents division by zero by adding a small constant during normalization.\n",
        "\n",
        "keepdim=True: Keeps the tensor dimensions unchanged to ensure correct broadcasting.\n",
        "\n",
        "unbiased=False: Computes population variance (divides by N) instead of sample variance (N-1), aligning with standard LayerNorm behavior."
      ],
      "metadata": {
        "id": "tUY3ySZyAc0l"
      }
    }
  ]
}